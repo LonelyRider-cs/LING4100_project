{
 "cells": [
  {
   "cell_type": "code",
   "execution_count": 20,
   "metadata": {},
   "outputs": [
    {
     "name": "stdout",
     "output_type": "stream",
     "text": [
      "manipulates\n",
      "məˈnɪpjəˌlets\n",
      "< m a n i p u l a t e s >\n",
      "< m ə n ɪ p j ə l e t s >\n"
     ]
    }
   ],
   "source": [
    "import pickle\n",
    "import random\n",
    "import re\n",
    "\n",
    "def importDATA():\n",
    "    file = open('word_ipa_dict.pkl','rb')\n",
    "    WORD_IPA_DICT = pickle.load(file)\n",
    "    WORD_IPA_LIST = [[k, v] for k, v in WORD_IPA_DICT.items()]\n",
    "    random.seed(23434)\n",
    "    random.shuffle(WORD_IPA_LIST)\n",
    "    split_marker = int(len(WORD_IPA_LIST) * 0.8)\n",
    "    train_WORD_IPA_LIST = WORD_IPA_LIST[:split_marker]\n",
    "    test_WORD_IPA_LIST = WORD_IPA_LIST[split_marker:]\n",
    "    return train_WORD_IPA_LIST, test_WORD_IPA_LIST\n",
    "\n",
    "def ONMT_DATA_FORMAT(WORD_IPA_LIST):\n",
    "    #print(WORD_IPA_LIST[0])\n",
    "    print(WORD_IPA_LIST[0][0])\n",
    "    print(WORD_IPA_LIST[0][1])\n",
    "    ONMT_WORD_LIST = []\n",
    "    ONMT_IPA_LIST = []\n",
    "    #add spaces between each charachter in the word and ipa spelling\n",
    "    for word_ipa in WORD_IPA_LIST:\n",
    "        #print(word_ipa)\n",
    "        temp_word = '< '\n",
    "        temp_ipa = '< '\n",
    "        for i in range(len(word_ipa[0])):\n",
    "            temp_word += word_ipa[0][i]\n",
    "            temp_word += ' '\n",
    "            if((i+1) == len(word_ipa[0])):\n",
    "                temp_word += '>'\n",
    "        ONMT_WORD_LIST.append(temp_word)\n",
    "        for i in range(len(word_ipa[1])):\n",
    "            if(word_ipa[1][i] != 'ˈ' and word_ipa[1][i] != 'ˌ'):\n",
    "                temp_ipa += word_ipa[1][i]\n",
    "                temp_ipa += ' '\n",
    "            if((i+1) == len(word_ipa[1])):\n",
    "                temp_ipa += '>'\n",
    "        ONMT_IPA_LIST.append(temp_ipa)\n",
    "    \n",
    "        \n",
    "    print(ONMT_WORD_LIST[0])\n",
    "    print(ONMT_IPA_LIST[0])\n",
    "    \n",
    "if __name__ == '__main__':\n",
    "    train_WORD_IPA_LIST, test_WORD_IPA_LIST = importDATA()\n",
    "    #print(len(train_WORD_IPA_LIST))\n",
    "    #print(len(test_WORD_IPA_LIST))\n",
    "    \n",
    "    ONMT_DATA_FORMAT(train_WORD_IPA_LIST)"
   ]
  },
  {
   "cell_type": "code",
   "execution_count": null,
   "metadata": {},
   "outputs": [],
   "source": []
  },
  {
   "cell_type": "code",
   "execution_count": null,
   "metadata": {},
   "outputs": [],
   "source": []
  }
 ],
 "metadata": {
  "kernelspec": {
   "display_name": "Python 3",
   "language": "python",
   "name": "python3"
  },
  "language_info": {
   "codemirror_mode": {
    "name": "ipython",
    "version": 3
   },
   "file_extension": ".py",
   "mimetype": "text/x-python",
   "name": "python",
   "nbconvert_exporter": "python",
   "pygments_lexer": "ipython3",
   "version": "3.6.7"
  }
 },
 "nbformat": 4,
 "nbformat_minor": 2
}
